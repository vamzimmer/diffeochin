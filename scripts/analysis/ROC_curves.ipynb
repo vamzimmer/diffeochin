{
 "cells": [
  {
   "cell_type": "code",
   "execution_count": 1,
   "metadata": {},
   "outputs": [
    {
     "name": "stderr",
     "output_type": "stream",
     "text": [
      "DEBUG:shapely.geos:Trying `CDLL(libc.so.6)`\n",
      "DEBUG:shapely.geos:Library path: 'libc.so.6'\n",
      "DEBUG:shapely.geos:DLL: <CDLL 'libc.so.6', handle 7fa97fae4500 at 0x7fa845a2fee0>\n"
     ]
    }
   ],
   "source": [
    "import logging\n",
    "mpl_logger = logging.getLogger('matplotlib')\n",
    "mpl_logger.setLevel(logging.WARNING) \n",
    "\n",
    "import warnings\n",
    "warnings.filterwarnings(\"ignore\", category=DeprecationWarning)\n",
    "\n",
    "### General Imports\n",
    "import matplotlib.pyplot as plt\n",
    "from glob import glob as glob\n",
    "import numpy as np\n",
    "import pandas as pd\n",
    "import os\n",
    "import matplotlib.cm as cm\n",
    "from vtk import vtkPolyDataReader\n",
    "from vtk import vtkPolyDataWriter\n",
    "from numpy import linalg as LA\n",
    "from sklearn import metrics\n",
    "from sklearn import preprocessing\n",
    "from scipy import interp\n",
    "\n",
    "from chindef.systemsetup import systemsetup_kallisto as systemsetup\n",
    "# from chindef.systemsetup import systemsetup as systemsetup\n",
    "from chindef.call_deformetrica import atlas\n",
    "from chindef.call_deformetrica import utils\n",
    "import chindef.utils.python_utils as putils\n",
    "import chindef.utils.plot_utils as pltutils\n",
    "import chindef.utils.class_utils as cutils\n",
    "import chindef.utils.eval_utils as eutils\n",
    "import chindef.utils.stat_utils as sutils\n",
    "import chindef.utils.do_analysis as do\n",
    "\n",
    "info_file = systemsetup.INFO_FILE\n",
    "n_components = 5\n",
    "pairwise_embedding = 'kpca_rbf' #'mds', 'kpca', 'kpca_rbf'\n",
    "# PCs = ['PC{}'.format(n+1) for n in range(n_components)]\n",
    "\n",
    "\n",
    "# DATA1_DIR = \"{}/{}\".format(systemsetup.DATA_DIR, data)\n",
    "\n",
    "methods = ['atlas_curve', 'atlas_surface', 'pairwise_curve', 'pairwise_surface']\n",
    "data = ['cleaned_curve', 'simplified0.3', 'cleaned_curve', 'simplified0.3']\n",
    "template_type = ['/template_5', '/template_5', '', '']\n",
    "# template = '{}/{}.vtk'.format(DATA1_DIR, template_type) \n",
    "\n",
    "# print(OUT_DIRs)"
   ]
  },
  {
   "cell_type": "markdown",
   "metadata": {},
   "source": [
    "## Taxon classification"
   ]
  },
  {
   "cell_type": "code",
   "execution_count": 5,
   "metadata": {},
   "outputs": [
    {
     "data": {
      "application/vnd.jupyter.widget-view+json": {
       "model_id": "b89fb6f7ae4f49718e70b44c1ac03cd3",
       "version_major": 2,
       "version_minor": 0
      },
      "text/plain": [
       "Canvas(toolbar=Toolbar(toolitems=[('Home', 'Reset original view', 'home', 'home'), ('Back', 'Back to previous …"
      ]
     },
     "metadata": {},
     "output_type": "display_data"
    },
    {
     "data": {
      "application/vnd.jupyter.widget-view+json": {
       "model_id": "8891146049404cb1b8ccb1c81ee5e475",
       "version_major": 2,
       "version_minor": 0
      },
      "text/plain": [
       "Canvas(toolbar=Toolbar(toolitems=[('Home', 'Reset original view', 'home', 'home'), ('Back', 'Back to previous …"
      ]
     },
     "metadata": {},
     "output_type": "display_data"
    }
   ],
   "source": [
    "%matplotlib widget\n",
    "\n",
    "pfile = systemsetup.OUT_DIR + '/final_results/Taxon_ROC_MH.png'\n",
    "\n",
    "##\n",
    "#   Modern humans\n",
    "#\n",
    "method_name = ['Atlas-Profile', 'Atlas-Surface', 'Pairwise-Profile', 'Pairwise-Surface']\n",
    "subset_name = 'modern_humans'\n",
    "subset = ['European', 'African']\n",
    "cols = ['class 0: European', 'class 1: African']\n",
    "OUT_DIRs = ['{}/{}/{}-{}{}'.format(systemsetup.OUT_DIR, m.replace('_', '/'),subset_name, d, t) for m, d, t in zip(methods, data, template_type)]\n",
    "\n",
    "ground_truth = []\n",
    "predictions = []\n",
    "for outdir in OUT_DIRs:\n",
    "    stat_tax = outdir + '/statistics_5/statistics_taxon.xlsx' if 'atlas' in outdir else outdir + '/statistics_5/kpca_rbf/statistics_taxon.xlsx'\n",
    "    df = eutils.read_data(stat_tax, sheet='LogReg_CV_ncomp5')\n",
    "\n",
    "    ground_truth.append(df['ground truth'])\n",
    "    predictions.append(df[cols].to_numpy())\n",
    "\n",
    "plot_roc_curves(ground_truth, predictions, 2, method_name, 'ROC curve (Taxon): Modern humans', plotit=True, outfile=pfile)\n",
    "\n",
    "##\n",
    "#   All specimen\n",
    "#\n",
    "pfile = systemsetup.OUT_DIR + '/final_results/Taxon_ROC_AS.png'\n",
    "\n",
    "method_name = ['Atlas-Profile', 'Atlas-Surface', 'Pairwise-Profile', 'Pairwise-Surface']\n",
    "subset_name = 'all_specimen'\n",
    "subset = ['European', 'African', 'Paranthropus', 'Australopithecus']\n",
    "cols = ['class 0: European', 'class 1: African', 'class 2: Paranthropus', 'class 3: Australopithecus']\n",
    "OUT_DIRs = ['{}/{}/{}-{}{}'.format(systemsetup.OUT_DIR, m.replace('_', '/'),subset_name, d, t) for m, d, t in zip(methods, data, template_type)]\n",
    "\n",
    "ground_truth = []\n",
    "predictions = []\n",
    "for outdir in OUT_DIRs:\n",
    "    stat_tax = outdir + '/statistics_5/statistics_taxon.xlsx' if 'atlas' in outdir else outdir + '/statistics_5/kpca_rbf/statistics_taxon.xlsx'\n",
    "    df = eutils.read_data(stat_tax, sheet='LogReg_CV_ncomp5')\n",
    "\n",
    "    ground_truth.append(df['ground truth'])\n",
    "    predictions.append(df[cols].to_numpy())\n",
    "\n",
    "plot_roc_curves(ground_truth, predictions, 4, method_name, 'ROC curve (Taxon): Modern humans & Hominins', outfile=pfile, plotit=True)\n"
   ]
  },
  {
   "cell_type": "markdown",
   "metadata": {},
   "source": [
    "## Gender"
   ]
  },
  {
   "cell_type": "code",
   "execution_count": 6,
   "metadata": {},
   "outputs": [
    {
     "name": "stdout",
     "output_type": "stream",
     "text": [
      "/home/veronika/Out/Aesop/output4.0/atlas/curve/modern_humans-cleaned_curve/template_5\n",
      "/home/veronika/Out/Aesop/output4.0/atlas/surface/modern_humans-simplified0.3/template_5\n",
      "/home/veronika/Out/Aesop/output4.0/pairwise/curve/modern_humans-cleaned_curve\n",
      "/home/veronika/Out/Aesop/output4.0/pairwise/surface/modern_humans-simplified0.3\n"
     ]
    },
    {
     "data": {
      "application/vnd.jupyter.widget-view+json": {
       "model_id": "0bc12dc7f6f94e2db494e250fec39efb",
       "version_major": 2,
       "version_minor": 0
      },
      "text/plain": [
       "Canvas(toolbar=Toolbar(toolitems=[('Home', 'Reset original view', 'home', 'home'), ('Back', 'Back to previous …"
      ]
     },
     "metadata": {},
     "output_type": "display_data"
    },
    {
     "name": "stdout",
     "output_type": "stream",
     "text": [
      "/home/veronika/Out/Aesop/output4.0/atlas/curve/modern_humans-cleaned_curve/template_5\n",
      "/home/veronika/Out/Aesop/output4.0/atlas/surface/modern_humans-simplified0.3/template_5\n",
      "/home/veronika/Out/Aesop/output4.0/pairwise/curve/modern_humans-cleaned_curve\n",
      "/home/veronika/Out/Aesop/output4.0/pairwise/surface/modern_humans-simplified0.3\n"
     ]
    },
    {
     "data": {
      "application/vnd.jupyter.widget-view+json": {
       "model_id": "5b20aabbeeb143cd8bb9d7cd3e82cfc5",
       "version_major": 2,
       "version_minor": 0
      },
      "text/plain": [
       "Canvas(toolbar=Toolbar(toolitems=[('Home', 'Reset original view', 'home', 'home'), ('Back', 'Back to previous …"
      ]
     },
     "metadata": {},
     "output_type": "display_data"
    }
   ],
   "source": [
    "%matplotlib widget\n",
    "\n",
    "pfile = systemsetup.OUT_DIR + '/final_results/Gender_ROC_E.png'\n",
    "\n",
    "##\n",
    "#   Modern humans\n",
    "#\n",
    "method_name = ['Atlas-Profile', 'Atlas-Surface', 'Pairwise-Profile', 'Pairwise-Surface']\n",
    "subset_name = 'modern_humans'\n",
    "subset = ['European', 'African']\n",
    "cols = ['class 0: European_male', 'class 1: European_female']\n",
    "OUT_DIRs = ['{}/{}/{}-{}{}'.format(systemsetup.OUT_DIR, m.replace('_', '/'),subset_name, d, t) for m, d, t in zip(methods, data, template_type)]\n",
    "\n",
    "ground_truth = []\n",
    "predictions = []\n",
    "for outdir in OUT_DIRs:\n",
    "    print(outdir)\n",
    "    stat_tax = outdir + '/statistics_5/statistics_gender.xlsx' if 'atlas' in outdir else outdir + '/statistics_5/kpca_rbf/statistics_gender.xlsx'\n",
    "    \n",
    "    df = eutils.read_data(stat_tax, sheet='LogReg_CV_ncomp51')\n",
    "    ground_truth.append(df['ground truth'])\n",
    "    predictions.append(df[cols].to_numpy())\n",
    "\n",
    "plot_roc_curves(ground_truth, predictions, 2, method_name, 'ROC curve (Gender): Europeans', plotit=True, outfile=pfile)\n",
    "\n",
    "pfile = systemsetup.OUT_DIR + '/final_results/Gender_ROC_A.png'\n",
    "cols = ['class 0: African_male', 'class 1: African_female']\n",
    "ground_truth = []\n",
    "predictions = []\n",
    "for outdir in OUT_DIRs:\n",
    "    print(outdir)\n",
    "    stat_tax = outdir + '/statistics_5/statistics_gender.xlsx' if 'atlas' in outdir else outdir + '/statistics_5/kpca_rbf/statistics_gender.xlsx'\n",
    "    \n",
    "    df = eutils.read_data(stat_tax, sheet='LogReg_CV_ncomp52')\n",
    "    ground_truth.append(df['ground truth'])\n",
    "    predictions.append(df[cols].to_numpy())\n",
    "\n",
    "plot_roc_curves(ground_truth, predictions, 2, method_name, 'ROC curve (Gender): Africans', plotit=True, outfile=pfile)"
   ]
  },
  {
   "cell_type": "code",
   "execution_count": 3,
   "metadata": {},
   "outputs": [],
   "source": [
    "def plot_roc_curves(ground_truth, predictions, C, names, title, outfile=None, ax=None, plotit=True):\n",
    "\n",
    "    colors  = ['lightcoral', 'lightcoral', 'cornflowerblue', 'cornflowerblue']\n",
    "    style = ['--', '-', '--', '-']\n",
    "    \n",
    "    if ax is None:\n",
    "        fig, ax = plt.subplots(figsize=(5,4))\n",
    "\n",
    "    for j in range(len(names)):\n",
    "        gt = binarize(ground_truth[j], C)\n",
    "\n",
    "        fpr, tpr, auc = roc_macro(gt, predictions[j], C)\n",
    "        ax.plot(fpr, tpr, style[j],\n",
    "                label='{:s} (AUC={:1.2f})'.format(names[j], auc),\n",
    "                color=colors[j], linewidth=2)\n",
    "    ax.plot([0, 1], [0, 1], '--', color='lightgray', lw=1)\n",
    "    ax.set_xlim([0.0, 1.0])\n",
    "    ax.set_ylim([0.0, 1.05])\n",
    "    ax.set_xlabel('False Positive Rate')\n",
    "    ax.set_ylabel('True Positive Rate')\n",
    "    ax.set_title(title)\n",
    "    ax.legend(loc=\"best\", fontsize=10)\n",
    "\n",
    "    if outfile is not None:\n",
    "        plt.savefig(outfile, dpi = 300)\n",
    "    # if plotit:\n",
    "    plt.show()\n",
    "\n",
    "\n",
    "def roc_macro(ground_truth, prediction, C):\n",
    "    # Compute ROC curve and ROC area for each class\n",
    "    fpr = dict()\n",
    "    tpr = dict()\n",
    "    roc_auc = dict()\n",
    "    for i in range(C):\n",
    "        fpr[i], tpr[i], _ = metrics.roc_curve(ground_truth[:, i], prediction[:, i],)\n",
    "        roc_auc[i] = metrics.auc(fpr[i], tpr[i])\n",
    "    # First aggregate all false positive rates\n",
    "    all_fpr = np.unique(np.concatenate([fpr[i] for i in range(C)]))\n",
    "\n",
    "    # Then interpolate all ROC curves at this points\n",
    "    mean_tpr = np.zeros_like(all_fpr)\n",
    "    for i in range(C):\n",
    "        mean_tpr += interp(all_fpr, fpr[i], tpr[i])\n",
    "\n",
    "    # Finally average it and compute AUC\n",
    "    mean_tpr /= C\n",
    "\n",
    "    fpr[\"macro\"] = all_fpr\n",
    "    tpr[\"macro\"] = mean_tpr\n",
    "    roc_auc[\"macro\"] = metrics.auc(fpr[\"macro\"], tpr[\"macro\"])\n",
    "\n",
    "    return fpr[\"macro\"], tpr[\"macro\"], roc_auc[\"macro\"]\n",
    "\n",
    "\n",
    "def binarize(input, C):\n",
    "\n",
    "    N = len(input)\n",
    "    classes_num = set(input)\n",
    "    # Binarize the output\n",
    "    if C==2:\n",
    "        input_bin = np.zeros((N, 2))\n",
    "        input_bin[:,0] = np.array([0 if g==1 else 1 for g in input])\n",
    "        input_bin[:,1] = input\n",
    "        input = input_bin\n",
    "    else:\n",
    "        input = preprocessing.label_binarize(input, classes=list(classes_num))\n",
    "\n",
    "    return input\n"
   ]
  },
  {
   "cell_type": "code",
   "execution_count": null,
   "metadata": {},
   "outputs": [],
   "source": []
  }
 ],
 "metadata": {
  "kernelspec": {
   "display_name": "Python 3.8.10 ('deformetrica')",
   "language": "python",
   "name": "python3"
  },
  "language_info": {
   "codemirror_mode": {
    "name": "ipython",
    "version": 3
   },
   "file_extension": ".py",
   "mimetype": "text/x-python",
   "name": "python",
   "nbconvert_exporter": "python",
   "pygments_lexer": "ipython3",
   "version": "3.8.10"
  },
  "orig_nbformat": 4,
  "vscode": {
   "interpreter": {
    "hash": "b8887b419084375f3be3835b1126195e007bdea448e520d50c60875124c9a220"
   }
  }
 },
 "nbformat": 4,
 "nbformat_minor": 2
}
